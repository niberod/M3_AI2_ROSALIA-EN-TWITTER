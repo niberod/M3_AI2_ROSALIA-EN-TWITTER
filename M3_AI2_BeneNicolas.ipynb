{
 "cells": [
  {
   "cell_type": "markdown",
   "id": "dd71f359",
   "metadata": {},
   "source": [
    "# **Tarea 2 Módulo 3**\n",
    "\n",
    "## Alumno: Nicolás Bene\n",
    "\n",
    "---"
   ]
  },
  {
   "cell_type": "markdown",
   "id": "f68889bb",
   "metadata": {},
   "source": [
    "Vamos a analizar el perfil de Rosalía (@rosalia) en Twitter. \n",
    "\n",
    "Las tareas que debes realizar y las preguntas a las que debes dar respuesta en esta actividad son la siguientes:\n",
    "\n",
    "1. Autentícate en twitter. Pon en notebook todo el código necesario y deja con “XXXXXX” las credenciales (bearer_token) para que el profesor se pueda autenticar con sus propias credenciales y ejecutar el resto del notebook. \n",
    "1. ¿Cuál es el id de @rosalia en twitter?\n",
    "1. Lista los nombres de los usuarios a los que @rosalia está siguiendo.\n",
    "1. ¿Cuál de ellos tiene más seguidores?\n",
    "1. Utiliza la get_users_tweets() para obtener el json completo con los cinco últimos tweets de Rosalia. Muestra por pantalla el día, la hora de creación y el texto.\n",
    "1. Recupera los cinco primeros tweets, a partir de la SteamingClient, desde de la entidad del país/región/ciudad de tu elección y que no sean retweets. Muestra por pantalla el id del usuario que realiza el tweet, la fecha, la hora de creación y el texto. \n",
    "\n",
    "<br>\n",
    "\n",
    "Primero importo las librerías"
   ]
  },
  {
   "cell_type": "code",
   "execution_count": 25,
   "id": "1e940b9f",
   "metadata": {},
   "outputs": [],
   "source": [
    "%%capture\n",
    "\n",
    "#Instalo el upgrade de tweepy (solo para colab, no es necesario en Jupyter). \n",
    "#Se utilizo el comando mágico capture al inicio de la celda para que no salga el output de la instalación.\n",
    "if 'google.colab' in str(get_ipython()):\n",
    "    !pip install tweepy --upgrade\n",
    "\n",
    "import tweepy\n",
    "import pandas as pd"
   ]
  },
  {
   "cell_type": "markdown",
   "id": "137c8c36",
   "metadata": {},
   "source": [
    "## 1) Autentícate en twitter. Pon en notebook todo el código necesario y deja con “XXXXXX” las credenciales (bearer_token) para que el profesor se pueda autenticar con sus propias credenciales y ejecutar el resto del notebook. "
   ]
  },
  {
   "cell_type": "markdown",
   "id": "a77aa379",
   "metadata": {},
   "source": [
    "Creo las credenciales para posteriormente autenticarme y conectarme a la API de Twitter. Para ello primero creo una variable con mi bearer token."
   ]
  },
  {
   "cell_type": "code",
   "execution_count": 26,
   "id": "afa59b5f",
   "metadata": {},
   "outputs": [],
   "source": [
    "bearer_token = 'AAAAAAAAAAAAAAAAAAAAAGhfZwEAAAAApP%2BYZkOjG7iDq1qiA9clljU5O3A%3DdWntbbi64GvVGo6oZe1VU1tvowTORQdie9AsexHwsDq60rqyYe'"
   ]
  },
  {
   "cell_type": "markdown",
   "id": "5b141389",
   "metadata": {},
   "source": [
    "A continuación me autentico."
   ]
  },
  {
   "cell_type": "code",
   "execution_count": 27,
   "id": "af4453b0",
   "metadata": {},
   "outputs": [],
   "source": [
    "client = tweepy.Client(bearer_token = bearer_token, wait_on_rate_limit = True)"
   ]
  },
  {
   "cell_type": "markdown",
   "id": "48423f04",
   "metadata": {},
   "source": [
    "## 2) ¿Cuál es el id de @rosalia en twitter?"
   ]
  },
  {
   "cell_type": "markdown",
   "id": "9b4e261c",
   "metadata": {},
   "source": [
    "Para ver el id de la usuaria solicitada, primero creo una variable con el nombre de la misma y obtengo sus datos a través de la API, especificando los `user_fields`."
   ]
  },
  {
   "cell_type": "code",
   "execution_count": 28,
   "id": "d2acaf4a",
   "metadata": {},
   "outputs": [],
   "source": [
    "USER_NAME = \"rosalia\"\n",
    "\n",
    "#Obtengo los datos del usuario rosalia\n",
    "user = client.get_user(username = USER_NAME, \n",
    "                       user_fields = [\"created_at\",\"description\",\"entities\",\"id\",\"location\",\"name\",\"pinned_tweet_id\"\n",
    "                       ,\"profile_image_url\",\"protected\",\"public_metrics\",\"url\",\"username\",\"verified\",\"withheld\"])"
   ]
  },
  {
   "cell_type": "markdown",
   "id": "6511379e",
   "metadata": {},
   "source": [
    "Obtenido así el usuario, me fijo el id analizando dicho atributo del objeto user."
   ]
  },
  {
   "cell_type": "code",
   "execution_count": 29,
   "id": "58302cde",
   "metadata": {},
   "outputs": [
    {
     "data": {
      "text/plain": [
       "1728956976"
      ]
     },
     "execution_count": 29,
     "metadata": {},
     "output_type": "execute_result"
    }
   ],
   "source": [
    "user.data.id"
   ]
  },
  {
   "cell_type": "markdown",
   "id": "a5f5d48f",
   "metadata": {},
   "source": [
    "El id de @rosalia es, entonces, 1728956976."
   ]
  },
  {
   "cell_type": "markdown",
   "id": "46eac041",
   "metadata": {},
   "source": [
    "## 3) Lista los nombres de los usuarios a los que @rosalia está siguiendo."
   ]
  },
  {
   "cell_type": "markdown",
   "id": "03bd9df0",
   "metadata": {},
   "source": [
    "Primero me fijo la cantidad de usuarios a los que @rosalia sigue."
   ]
  },
  {
   "cell_type": "code",
   "execution_count": 30,
   "id": "081c98db",
   "metadata": {},
   "outputs": [
    {
     "data": {
      "text/plain": [
       "54"
      ]
     },
     "execution_count": 30,
     "metadata": {},
     "output_type": "execute_result"
    }
   ],
   "source": [
    "user.data.public_metrics[\"following_count\"]"
   ]
  },
  {
   "cell_type": "markdown",
   "id": "456e5a49",
   "metadata": {},
   "source": [
    "Son 54, por lo tanto se pueden listarlos fácilmente por pantalla.\n",
    "\n",
    "Para verlos uso el comando `get_users_following`, ya que el mismo muestra las personas a las que sigue @rosalia. Para listarlos a todos  se puede utilizar un objeto `Paginator`, y dentro de cada página me quedo con el atributo `username` que es el nombre del usuario. Cada nombre de usuario lo voy asignando a una lista creada previamente, llamada following.\n",
    "\n",
    "Posteriormente controlaré que la cantidad de elementos de esta lista coincida con el conteo realizado anteriormente."
   ]
  },
  {
   "cell_type": "code",
   "execution_count": 31,
   "id": "af4f8de2",
   "metadata": {},
   "outputs": [],
   "source": [
    "#Creo la lista en la que luego almacenaré los nombres de usuarios\n",
    "following = []\n",
    "\n",
    "#Realizo el loop con el que se llenará la lista anterior\n",
    "for page in tweepy.Paginator(client.get_users_following, user.data.id, max_results=100, limit = 14):\n",
    "  for response in page.data:\n",
    "    following.append(response.data[\"username\"])"
   ]
  },
  {
   "cell_type": "markdown",
   "id": "3a53f90b",
   "metadata": {},
   "source": [
    "El loop anterior creó la lista following, donde se guardó el nombre de los usuarios a los que sige @rosalia. Me fijo el número de elementos de dicha lista para cerciorarme que da igual que el obtenido usando `user.data.public_metrics[\"following_count\"]`."
   ]
  },
  {
   "cell_type": "code",
   "execution_count": 32,
   "id": "e09e280e",
   "metadata": {},
   "outputs": [
    {
     "data": {
      "text/plain": [
       "54"
      ]
     },
     "execution_count": 32,
     "metadata": {},
     "output_type": "execute_result"
    }
   ],
   "source": [
    "len(following)"
   ]
  },
  {
   "cell_type": "markdown",
   "id": "a2071ec9",
   "metadata": {},
   "source": [
    "El número de elementos es igual que el conteo que se hizo. Resta listar los nombres de los 54 usuarios a los que Rosalia sigue:"
   ]
  },
  {
   "cell_type": "code",
   "execution_count": 33,
   "id": "fbc57535",
   "metadata": {},
   "outputs": [
    {
     "name": "stdout",
     "output_type": "stream",
     "text": [
      "NoeliaRMontes\n",
      "jose272011\n",
      "neggata\n",
      "jooleesah\n",
      "rociorotten\n",
      "caesarenas\n",
      "katbeee\n",
      "motovenus\n",
      "zanelowe\n",
      "dantijerina\n",
      "RollingStoneUK\n",
      "carolineplz\n",
      "ivangb00\n",
      "iamcardib\n",
      "Tainy\n",
      "rossydpalma\n",
      "officialDannyT\n",
      "DONOMAR\n",
      "OTHERtone\n",
      "brokemogul\n",
      "ChadHugo\n",
      "Pharrell\n",
      "TheNeptunes\n",
      "babykeem\n",
      "Harry_Styles\n",
      "tokischa_\n",
      "secoweedcodein\n",
      "kaydyCain\n",
      "dragon___loco\n",
      "caetanoveloso\n",
      "0PN\n",
      "jimmyfallon\n",
      "MuraiHiro\n",
      "MayaCPopa\n",
      "historiayarte_\n",
      "yokoono\n",
      "elonmusk\n",
      "rauwalejandro\n",
      "MissyElliott\n",
      "YouTubeJapan\n",
      "jamesblake\n",
      "CharmLadonna\n",
      "arca1000000\n",
      "Camaron_Fans\n",
      "ptobella\n",
      "playboicarti\n",
      "caroshawmusic\n",
      "KylieJenner\n",
      "ChloeBailey\n",
      "rojuuaka\n",
      "RodoredaMerce\n",
      "leticia__sala\n",
      "michaeluzowuru\n",
      "daikyri_\n"
     ]
    }
   ],
   "source": [
    "for i in following:\n",
    "    print(i)"
   ]
  },
  {
   "cell_type": "markdown",
   "id": "aa5e9c6c",
   "metadata": {},
   "source": [
    "## 4) ¿Cuál de ellos tiene más seguidores?"
   ]
  },
  {
   "cell_type": "markdown",
   "id": "ddd9da13",
   "metadata": {},
   "source": [
    "Para contestar a esta pregunta, lo primero que hago es un loop para crear una lista con la cantidad followers de cada uno de los 54 usuarios a los que sigue Rosalia. Para ello en el loop obtengo cada uno de los usuarios de la lista following con `client.get_user`, y sobre los mismos aplico `data.public_metrics[\"followers_count\"]` para obtener el número de usuarios que los siguen."
   ]
  },
  {
   "cell_type": "code",
   "execution_count": 35,
   "id": "a48e6479",
   "metadata": {},
   "outputs": [],
   "source": [
    "#Creo la lista en la que luego almacenaré el conteo de los followers de los usuarios a los que sigue rosalia\n",
    "f_counts = []\n",
    "\n",
    "#Realizo el loop que llena la lista anterior\n",
    "for i in following:\n",
    "    f_counts.append(\n",
    "        client.get_user(username = i, \n",
    "                        user_fields = [\"public_metrics\"])\n",
    "            .data.public_metrics[\"followers_count\"]\n",
    "        )"
   ]
  },
  {
   "cell_type": "markdown",
   "id": "47189c0e",
   "metadata": {},
   "source": [
    "Luego paso las dos listas creadas (la de usuarios a los que rosalia sigue y la del conteo de los followers de los mismos) a un dataframe."
   ]
  },
  {
   "cell_type": "code",
   "execution_count": 50,
   "id": "83153ea9",
   "metadata": {},
   "outputs": [
    {
     "data": {
      "text/html": [
       "<div>\n",
       "<style scoped>\n",
       "    .dataframe tbody tr th:only-of-type {\n",
       "        vertical-align: middle;\n",
       "    }\n",
       "\n",
       "    .dataframe tbody tr th {\n",
       "        vertical-align: top;\n",
       "    }\n",
       "\n",
       "    .dataframe thead th {\n",
       "        text-align: right;\n",
       "    }\n",
       "</style>\n",
       "<table border=\"1\" class=\"dataframe\">\n",
       "  <thead>\n",
       "    <tr style=\"text-align: right;\">\n",
       "      <th></th>\n",
       "      <th>user</th>\n",
       "      <th>followers_counts</th>\n",
       "    </tr>\n",
       "  </thead>\n",
       "  <tbody>\n",
       "    <tr>\n",
       "      <th>36</th>\n",
       "      <td>elonmusk</td>\n",
       "      <td>77604248</td>\n",
       "    </tr>\n",
       "    <tr>\n",
       "      <th>31</th>\n",
       "      <td>jimmyfallon</td>\n",
       "      <td>51455441</td>\n",
       "    </tr>\n",
       "    <tr>\n",
       "      <th>47</th>\n",
       "      <td>KylieJenner</td>\n",
       "      <td>39697776</td>\n",
       "    </tr>\n",
       "    <tr>\n",
       "      <th>24</th>\n",
       "      <td>Harry_Styles</td>\n",
       "      <td>37434555</td>\n",
       "    </tr>\n",
       "    <tr>\n",
       "      <th>13</th>\n",
       "      <td>iamcardib</td>\n",
       "      <td>22118077</td>\n",
       "    </tr>\n",
       "    <tr>\n",
       "      <th>21</th>\n",
       "      <td>Pharrell</td>\n",
       "      <td>10659795</td>\n",
       "    </tr>\n",
       "    <tr>\n",
       "      <th>38</th>\n",
       "      <td>MissyElliott</td>\n",
       "      <td>6967457</td>\n",
       "    </tr>\n",
       "    <tr>\n",
       "      <th>17</th>\n",
       "      <td>DONOMAR</td>\n",
       "      <td>5279803</td>\n",
       "    </tr>\n",
       "    <tr>\n",
       "      <th>35</th>\n",
       "      <td>yokoono</td>\n",
       "      <td>4609237</td>\n",
       "    </tr>\n",
       "    <tr>\n",
       "      <th>45</th>\n",
       "      <td>playboicarti</td>\n",
       "      <td>2230327</td>\n",
       "    </tr>\n",
       "    <tr>\n",
       "      <th>37</th>\n",
       "      <td>rauwalejandro</td>\n",
       "      <td>1845017</td>\n",
       "    </tr>\n",
       "    <tr>\n",
       "      <th>48</th>\n",
       "      <td>ChloeBailey</td>\n",
       "      <td>1148487</td>\n",
       "    </tr>\n",
       "    <tr>\n",
       "      <th>29</th>\n",
       "      <td>caetanoveloso</td>\n",
       "      <td>1027211</td>\n",
       "    </tr>\n",
       "    <tr>\n",
       "      <th>8</th>\n",
       "      <td>zanelowe</td>\n",
       "      <td>676643</td>\n",
       "    </tr>\n",
       "    <tr>\n",
       "      <th>16</th>\n",
       "      <td>officialDannyT</td>\n",
       "      <td>469434</td>\n",
       "    </tr>\n",
       "    <tr>\n",
       "      <th>39</th>\n",
       "      <td>YouTubeJapan</td>\n",
       "      <td>414267</td>\n",
       "    </tr>\n",
       "    <tr>\n",
       "      <th>40</th>\n",
       "      <td>jamesblake</td>\n",
       "      <td>339635</td>\n",
       "    </tr>\n",
       "    <tr>\n",
       "      <th>23</th>\n",
       "      <td>babykeem</td>\n",
       "      <td>206295</td>\n",
       "    </tr>\n",
       "    <tr>\n",
       "      <th>26</th>\n",
       "      <td>secoweedcodein</td>\n",
       "      <td>160621</td>\n",
       "    </tr>\n",
       "    <tr>\n",
       "      <th>27</th>\n",
       "      <td>kaydyCain</td>\n",
       "      <td>135238</td>\n",
       "    </tr>\n",
       "    <tr>\n",
       "      <th>25</th>\n",
       "      <td>tokischa_</td>\n",
       "      <td>122179</td>\n",
       "    </tr>\n",
       "    <tr>\n",
       "      <th>42</th>\n",
       "      <td>arca1000000</td>\n",
       "      <td>118787</td>\n",
       "    </tr>\n",
       "    <tr>\n",
       "      <th>14</th>\n",
       "      <td>Tainy</td>\n",
       "      <td>105417</td>\n",
       "    </tr>\n",
       "    <tr>\n",
       "      <th>34</th>\n",
       "      <td>historiayarte_</td>\n",
       "      <td>96800</td>\n",
       "    </tr>\n",
       "    <tr>\n",
       "      <th>11</th>\n",
       "      <td>carolineplz</td>\n",
       "      <td>81798</td>\n",
       "    </tr>\n",
       "    <tr>\n",
       "      <th>49</th>\n",
       "      <td>rojuuaka</td>\n",
       "      <td>76560</td>\n",
       "    </tr>\n",
       "    <tr>\n",
       "      <th>15</th>\n",
       "      <td>rossydpalma</td>\n",
       "      <td>67924</td>\n",
       "    </tr>\n",
       "    <tr>\n",
       "      <th>30</th>\n",
       "      <td>0PN</td>\n",
       "      <td>67648</td>\n",
       "    </tr>\n",
       "    <tr>\n",
       "      <th>19</th>\n",
       "      <td>brokemogul</td>\n",
       "      <td>60681</td>\n",
       "    </tr>\n",
       "    <tr>\n",
       "      <th>1</th>\n",
       "      <td>jose272011</td>\n",
       "      <td>39026</td>\n",
       "    </tr>\n",
       "    <tr>\n",
       "      <th>20</th>\n",
       "      <td>ChadHugo</td>\n",
       "      <td>35122</td>\n",
       "    </tr>\n",
       "    <tr>\n",
       "      <th>53</th>\n",
       "      <td>daikyri_</td>\n",
       "      <td>34785</td>\n",
       "    </tr>\n",
       "    <tr>\n",
       "      <th>50</th>\n",
       "      <td>RodoredaMerce</td>\n",
       "      <td>31308</td>\n",
       "    </tr>\n",
       "    <tr>\n",
       "      <th>32</th>\n",
       "      <td>MuraiHiro</td>\n",
       "      <td>31191</td>\n",
       "    </tr>\n",
       "    <tr>\n",
       "      <th>43</th>\n",
       "      <td>Camaron_Fans</td>\n",
       "      <td>24278</td>\n",
       "    </tr>\n",
       "    <tr>\n",
       "      <th>33</th>\n",
       "      <td>MayaCPopa</td>\n",
       "      <td>21191</td>\n",
       "    </tr>\n",
       "    <tr>\n",
       "      <th>2</th>\n",
       "      <td>neggata</td>\n",
       "      <td>20800</td>\n",
       "    </tr>\n",
       "    <tr>\n",
       "      <th>22</th>\n",
       "      <td>TheNeptunes</td>\n",
       "      <td>19219</td>\n",
       "    </tr>\n",
       "    <tr>\n",
       "      <th>52</th>\n",
       "      <td>michaeluzowuru</td>\n",
       "      <td>10016</td>\n",
       "    </tr>\n",
       "    <tr>\n",
       "      <th>46</th>\n",
       "      <td>caroshawmusic</td>\n",
       "      <td>8074</td>\n",
       "    </tr>\n",
       "    <tr>\n",
       "      <th>41</th>\n",
       "      <td>CharmLadonna</td>\n",
       "      <td>7454</td>\n",
       "    </tr>\n",
       "    <tr>\n",
       "      <th>51</th>\n",
       "      <td>leticia__sala</td>\n",
       "      <td>6374</td>\n",
       "    </tr>\n",
       "    <tr>\n",
       "      <th>6</th>\n",
       "      <td>katbeee</td>\n",
       "      <td>4182</td>\n",
       "    </tr>\n",
       "    <tr>\n",
       "      <th>0</th>\n",
       "      <td>NoeliaRMontes</td>\n",
       "      <td>3558</td>\n",
       "    </tr>\n",
       "    <tr>\n",
       "      <th>10</th>\n",
       "      <td>RollingStoneUK</td>\n",
       "      <td>3470</td>\n",
       "    </tr>\n",
       "    <tr>\n",
       "      <th>3</th>\n",
       "      <td>jooleesah</td>\n",
       "      <td>3443</td>\n",
       "    </tr>\n",
       "    <tr>\n",
       "      <th>18</th>\n",
       "      <td>OTHERtone</td>\n",
       "      <td>1857</td>\n",
       "    </tr>\n",
       "    <tr>\n",
       "      <th>5</th>\n",
       "      <td>caesarenas</td>\n",
       "      <td>1585</td>\n",
       "    </tr>\n",
       "    <tr>\n",
       "      <th>4</th>\n",
       "      <td>rociorotten</td>\n",
       "      <td>1471</td>\n",
       "    </tr>\n",
       "    <tr>\n",
       "      <th>44</th>\n",
       "      <td>ptobella</td>\n",
       "      <td>1178</td>\n",
       "    </tr>\n",
       "    <tr>\n",
       "      <th>12</th>\n",
       "      <td>ivangb00</td>\n",
       "      <td>557</td>\n",
       "    </tr>\n",
       "    <tr>\n",
       "      <th>9</th>\n",
       "      <td>dantijerina</td>\n",
       "      <td>345</td>\n",
       "    </tr>\n",
       "    <tr>\n",
       "      <th>28</th>\n",
       "      <td>dragon___loco</td>\n",
       "      <td>280</td>\n",
       "    </tr>\n",
       "    <tr>\n",
       "      <th>7</th>\n",
       "      <td>motovenus</td>\n",
       "      <td>46</td>\n",
       "    </tr>\n",
       "  </tbody>\n",
       "</table>\n",
       "</div>"
      ],
      "text/plain": [
       "              user  followers_counts\n",
       "36        elonmusk          77604248\n",
       "31     jimmyfallon          51455441\n",
       "47     KylieJenner          39697776\n",
       "24    Harry_Styles          37434555\n",
       "13       iamcardib          22118077\n",
       "21        Pharrell          10659795\n",
       "38    MissyElliott           6967457\n",
       "17         DONOMAR           5279803\n",
       "35         yokoono           4609237\n",
       "45    playboicarti           2230327\n",
       "37   rauwalejandro           1845017\n",
       "48     ChloeBailey           1148487\n",
       "29   caetanoveloso           1027211\n",
       "8         zanelowe            676643\n",
       "16  officialDannyT            469434\n",
       "39    YouTubeJapan            414267\n",
       "40      jamesblake            339635\n",
       "23        babykeem            206295\n",
       "26  secoweedcodein            160621\n",
       "27       kaydyCain            135238\n",
       "25       tokischa_            122179\n",
       "42     arca1000000            118787\n",
       "14           Tainy            105417\n",
       "34  historiayarte_             96800\n",
       "11     carolineplz             81798\n",
       "49        rojuuaka             76560\n",
       "15     rossydpalma             67924\n",
       "30             0PN             67648\n",
       "19      brokemogul             60681\n",
       "1       jose272011             39026\n",
       "20        ChadHugo             35122\n",
       "53        daikyri_             34785\n",
       "50   RodoredaMerce             31308\n",
       "32       MuraiHiro             31191\n",
       "43    Camaron_Fans             24278\n",
       "33       MayaCPopa             21191\n",
       "2          neggata             20800\n",
       "22     TheNeptunes             19219\n",
       "52  michaeluzowuru             10016\n",
       "46   caroshawmusic              8074\n",
       "41    CharmLadonna              7454\n",
       "51   leticia__sala              6374\n",
       "6          katbeee              4182\n",
       "0    NoeliaRMontes              3558\n",
       "10  RollingStoneUK              3470\n",
       "3        jooleesah              3443\n",
       "18       OTHERtone              1857\n",
       "5       caesarenas              1585\n",
       "4      rociorotten              1471\n",
       "44        ptobella              1178\n",
       "12        ivangb00               557\n",
       "9      dantijerina               345\n",
       "28   dragon___loco               280\n",
       "7        motovenus                46"
      ]
     },
     "execution_count": 50,
     "metadata": {},
     "output_type": "execute_result"
    }
   ],
   "source": [
    "#Creo el dataframe\n",
    "following_df = pd.DataFrame({\"user\" : following, \"followers_counts\": f_counts})\n",
    "\n",
    "#Lo observo y lo ordeno en forma descendente para ver cual usuario tiene más followers\n",
    "following_df.sort_values(\"followers_counts\", ascending= False)"
   ]
  },
  {
   "cell_type": "markdown",
   "id": "2e2d7f7c",
   "metadata": {},
   "source": [
    "Dentro de los 54 twitteros, Elon Musk es el que tiene más seguidores, con más de 77 millones."
   ]
  },
  {
   "cell_type": "markdown",
   "id": "d12d5987",
   "metadata": {},
   "source": [
    "## 5) Utiliza la get_users_tweets() para obtener el json completo con los cinco últimos tweets de Rosalia. Muestra por pantalla el día, la hora de creación y el texto. ##"
   ]
  },
  {
   "cell_type": "code",
   "execution_count": 43,
   "id": "bdeab878",
   "metadata": {},
   "outputs": [
    {
     "name": "stdout",
     "output_type": "stream",
     "text": [
      "Tweet N° 1 \n",
      " Fecha y hora de creación: 2022-03-13 00:06:10+00:00 \n",
      " RT @RosaliaSources: En 4 horas y 30 minutos comenzará #SNL, donde @Rosalia realizará 2 actuaciones.\n",
      "\n",
      "Link para verlo en directo: \n",
      "https://t… \n",
      "\n",
      "Tweet N° 2 \n",
      " Fecha y hora de creación: 2022-03-13 00:00:46+00:00 \n",
      " RT @RosaliaInfoES: ROSALÍA — “Saturday Night Live”\n",
      "\n",
      " ➤ Sábado, 12 de marzo:\n",
      "9:30 PM 🇨🇷🇸🇻🇬🇹🇭🇳🇳🇮\n",
      "10:30 PM 🇪🇨🇵🇪🇲🇽🇵🇦🇨🇴\n",
      "11:30 PM 🇻🇪🇩🇴🇧🇴🇨🇺🇨🇱🇵🇾🇵🇷… \n",
      "\n",
      "Tweet N° 3 \n",
      " Fecha y hora de creación: 2022-03-12 04:38:14+00:00 \n",
      " RT @johandls360: NO PUEDO ESPERARRRRrrrrrr @rosalia #MOTOMAMI https://t.co/rN1aC2ibc3 \n",
      "\n",
      "Tweet N° 4 \n",
      " Fecha y hora de creación: 2022-03-12 00:06:26+00:00 \n",
      " @tokischa_ @jimmyfallon Eso tUUUUU todo el rato toKi💓 \n",
      "\n",
      "Tweet N° 5 \n",
      " Fecha y hora de creación: 2022-03-11 21:07:02+00:00 \n",
      " Aunque\n",
      "14/20:\n",
      "\n",
      "El casco es el mejor bolso de unA motomami \n",
      "\n"
     ]
    }
   ],
   "source": [
    "#Busco los últimos 5 tweets de Rosalia, y establezco que incluya el campo created_at, ya que el texto lo trae por defecto\n",
    "tweets = client.get_users_tweets(id = user.data.id, tweet_fields = [\"created_at\"], max_results =5)\n",
    "\n",
    "#Imprimo los datos solicitados de los tweets\n",
    "conteo = 1\n",
    "for tweet in tweets.data:\n",
    "    print(\"Tweet N°\",conteo,\"\\n\",\n",
    "          \"Fecha y hora de creación:\", tweet.created_at,  \"\\n\",\n",
    "          tweet.text, \"\\n\")\n",
    "    conteo+=1"
   ]
  },
  {
   "cell_type": "markdown",
   "id": "ba0a53de",
   "metadata": {},
   "source": [
    "## 6) Recupera los cinco primeros tweets, a partir de la SteamingClient, desde de la entidad del país/región/ciudad de tu elección y que no sean retweets. Muestra por pantalla el id del usuario que realiza el tweet, la fecha, la hora de creación y el texto."
   ]
  },
  {
   "cell_type": "code",
   "execution_count": 48,
   "id": "7c51cd83",
   "metadata": {},
   "outputs": [
    {
     "name": "stdout",
     "output_type": "stream",
     "text": [
      "Tweet N° 1 \n",
      " id del usuario:  1503039733102002178 \n",
      " Fecha y hora de creación: 2022-03-13 16:06:12+00:00 \n",
      " El círculo está tirando más para el lado de Uruguay, pero yo me cruzo, donde ellos vayan yo voy!!!! https://t.co/EM4o4G9Bef \n",
      "\n",
      "Tweet N° 2 \n",
      " id del usuario:  1503039765326798849 \n",
      " Fecha y hora de creación: 2022-03-13 16:06:19+00:00 \n",
      " @NetoCavagneri Aah, Bengoechea entonces no sabe nada, campeón en Uruguay y Perú de pura suerte, ah ya. \n",
      "\n",
      "Tweet N° 3 \n",
      " id del usuario:  1503039820238450688 \n",
      " Fecha y hora de creación: 2022-03-13 16:06:32+00:00 \n",
      " @afigue2010 @Chasquetti @marianapomies Está campaña tiene muchas cosas novedosas, lamentablemente algunas bordean la inconstitucionalidad y lo políticamente ilógico! La tradición democrática del uruguay merece los mejores estándares republicanos \n",
      "\n",
      "Tweet N° 4 \n",
      " id del usuario:  1503039838525833220 \n",
      " Fecha y hora de creación: 2022-03-13 16:06:37+00:00 \n",
      " @ECavaniOfficial @ManUtd @premierleague Start of the warm up games for the next Uruguay internationals. \n",
      "\n"
     ]
    },
    {
     "name": "stderr",
     "output_type": "stream",
     "text": [
      "Stream connection closed by Twitter\n"
     ]
    },
    {
     "name": "stdout",
     "output_type": "stream",
     "text": [
      "Tweet N° 5 \n",
      " id del usuario:  1503039964296134658 \n",
      " Fecha y hora de creación: 2022-03-13 16:07:07+00:00 \n",
      " La policía lo tiene que custodiar por 180 días, 24hs, y lo acompañan a COMPRAR DROGA.... URUGUAY NOMÁÁÁÁ https://t.co/rHhUY9cyv0 \n",
      "\n"
     ]
    }
   ],
   "source": [
    "# Declaro la clase listener que va a instanciar tweepy.StreamingClient \n",
    "class listener(tweepy.StreamingClient):\n",
    "    # Creo un contador de tweets capturados\n",
    "    def on_connect(self):\n",
    "        self.counter = 1\n",
    "        self.limit = 6\n",
    "    # Evento que se ejecuta con cada tweet\n",
    "    def on_tweet(self, tweet):\n",
    "        print(\"Tweet N°\",self.counter,\"\\n\",  \n",
    "              \"id del usuario: \", tweet.id, \"\\n\",\n",
    "              \"Fecha y hora de creación:\", tweet.created_at,\"\\n\",\n",
    "             tweet.text,\"\\n\"\n",
    "              )\n",
    "        self.counter += 1\n",
    "        if self.counter < self.limit:\n",
    "            return True\n",
    "        else:\n",
    "            self.disconnect()\n",
    "    def on_error(self, tweet):\n",
    "        print(tweet)\n",
    "\n",
    "#Declaro la instancia de tweepy.StreamingClient\n",
    "listen = listener(bearer_token,wait_on_rate_limit=True)\n",
    "\n",
    "#Elimino las reglas previas\n",
    "printer_rules = listen.get_rules()\n",
    "if printer_rules.data is not None:\n",
    "  listen.delete_rules([str(i.id) for i in listen.get_rules().data])\n",
    "\n",
    "#Declaro las nuevas reglas, donde mostraré tweets de Uruguay que no sean retweets\n",
    "listen.add_rules(tweepy.StreamRule('entity:\"Uruguay\" -is:retweet'))\n",
    "\n",
    "# Filtro e indico los campos a recuperar. No menciono explicitamente el id ni el texto porque lo muestra por default.\n",
    "listen.filter(tweet_fields=[\"created_at\"])"
   ]
  }
 ],
 "metadata": {
  "kernelspec": {
   "display_name": "mbdds_rpy20",
   "language": "python",
   "name": "mbdds_rpy20"
  },
  "language_info": {
   "codemirror_mode": {
    "name": "ipython",
    "version": 3
   },
   "file_extension": ".py",
   "mimetype": "text/x-python",
   "name": "python",
   "nbconvert_exporter": "python",
   "pygments_lexer": "ipython3",
   "version": "3.6.9"
  },
  "varInspector": {
   "cols": {
    "lenName": 16,
    "lenType": 16,
    "lenVar": 40
   },
   "kernels_config": {
    "python": {
     "delete_cmd_postfix": "",
     "delete_cmd_prefix": "del ",
     "library": "var_list.py",
     "varRefreshCmd": "print(var_dic_list())"
    },
    "r": {
     "delete_cmd_postfix": ") ",
     "delete_cmd_prefix": "rm(",
     "library": "var_list.r",
     "varRefreshCmd": "cat(var_dic_list()) "
    }
   },
   "types_to_exclude": [
    "module",
    "function",
    "builtin_function_or_method",
    "instance",
    "_Feature"
   ],
   "window_display": false
  }
 },
 "nbformat": 4,
 "nbformat_minor": 5
}
