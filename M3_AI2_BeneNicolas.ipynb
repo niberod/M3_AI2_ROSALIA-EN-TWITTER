{
 "cells": [
  {
   "cell_type": "markdown",
   "id": "dd71f359",
   "metadata": {},
   "source": [
    "# **Tarea 2 Módulo 3**\n",
    "\n",
    "## Alumno: Nicolás Bene\n",
    "\n",
    "---"
   ]
  },
  {
   "cell_type": "markdown",
   "id": "f68889bb",
   "metadata": {},
   "source": [
    "Vamos a analizar el perfil de Rosalía (@rosalia) en Twitter. \n",
    "\n",
    "Las tareas que debes realizar y las preguntas a las que debes dar respuesta en esta actividad son la siguientes:\n",
    "\n",
    "1. Autentícate en twitter. Pon en notebook todo el código necesario y deja con “XXXXXX” las credenciales (bearer_token) para que el profesor se pueda autenticar con sus propias credenciales y ejecutar el resto del notebook. \n",
    "1. ¿Cuál es el id de @rosalia en twitter?\n",
    "1. Lista los nombres de los usuarios a los que @rosalia está siguiendo.\n",
    "1. ¿Cuál de ellos tiene más seguidores?\n",
    "1. Utiliza la get_users_tweets() para obtener el json completo con los cinco últimos tweets de Rosalia. Muestra por pantalla el día, la hora de creación y el texto.\n",
    "1. Recupera los cinco primeros tweets, a partir de la SteamingClient, desde de la entidad del país/región/ciudad de tu elección y que no sean retweets. Muestra por pantalla el id del usuario que realiza el tweet, la fecha, la hora de creación y el texto. \n",
    "\n",
    "<br>\n",
    "\n",
    "Primero importo las librerías"
   ]
  },
  {
   "cell_type": "code",
   "execution_count": 1,
   "id": "ec7f100d",
   "metadata": {},
   "outputs": [],
   "source": [
    "import json\n",
    "import tweepy\n",
    "import urllib\n",
    "import time\n",
    "import pandas as pd"
   ]
  },
  {
   "cell_type": "markdown",
   "id": "137c8c36",
   "metadata": {},
   "source": [
    "## 1) Autentícate en twitter. Pon en notebook todo el código necesario y deja con “XXXXXX” las credenciales (bearer_token) para que el profesor se pueda autenticar con sus propias credenciales y ejecutar el resto del notebook. "
   ]
  },
  {
   "cell_type": "markdown",
   "id": "a77aa379",
   "metadata": {},
   "source": [
    "Creo las credenciales para posteriormente autenticarme y conectarme a la API de Twitter. Para ello primero creo una variable con mi bearer token."
   ]
  },
  {
   "cell_type": "code",
   "execution_count": 24,
   "id": "afa59b5f",
   "metadata": {},
   "outputs": [],
   "source": [
    "bearer_token = 'AAAAAAAAAAAAAAAAAAAAAGhfZwEAAAAApP%2BYZkOjG7iDq1qiA9clljU5O3A%3DdWntbbi64GvVGo6oZe1VU1tvowTORQdie9AsexHwsDq60rqyYe'"
   ]
  },
  {
   "cell_type": "markdown",
   "id": "5b141389",
   "metadata": {},
   "source": [
    "A continuación me autentico."
   ]
  },
  {
   "cell_type": "code",
   "execution_count": 3,
   "id": "af4453b0",
   "metadata": {},
   "outputs": [],
   "source": [
    "client = tweepy.Client(bearer_token=bearer_token, wait_on_rate_limit=True)"
   ]
  },
  {
   "cell_type": "markdown",
   "id": "48423f04",
   "metadata": {},
   "source": [
    "## 2) ¿Cuál es el id de @rosalia en twitter?"
   ]
  },
  {
   "cell_type": "markdown",
   "id": "9b4e261c",
   "metadata": {},
   "source": [
    "Para ver el id del usuario solicitado, primero creo una variable con el nombre de la usuaria y obtengo sus datos a través de la API, especificando los `user_fields`."
   ]
  },
  {
   "cell_type": "code",
   "execution_count": 4,
   "id": "d2acaf4a",
   "metadata": {},
   "outputs": [],
   "source": [
    "USER_NAME = \"rosalia\"\n",
    "\n",
    "#Obtengo los datos del usuario rosalia\n",
    "user = client.get_user(username=USER_NAME, \n",
    "                       user_fields=[\"created_at\",\"description\",\"entities\",\"id\",\"location\",\"name\",\"pinned_tweet_id\"\n",
    "                       ,\"profile_image_url\",\"protected\",\"public_metrics\",\"url\",\"username\",\"verified\",\"withheld\"])"
   ]
  },
  {
   "cell_type": "markdown",
   "id": "6511379e",
   "metadata": {},
   "source": [
    "Obtenido así el usuario, me fijo el id analizando dicho atributo del objeto user."
   ]
  },
  {
   "cell_type": "code",
   "execution_count": 22,
   "id": "58302cde",
   "metadata": {},
   "outputs": [
    {
     "data": {
      "text/plain": [
       "1728956976"
      ]
     },
     "execution_count": 22,
     "metadata": {},
     "output_type": "execute_result"
    }
   ],
   "source": [
    "user.data.id"
   ]
  },
  {
   "cell_type": "markdown",
   "id": "a5f5d48f",
   "metadata": {},
   "source": [
    "El id de @rosalia es, entonces, 1728956976."
   ]
  },
  {
   "cell_type": "markdown",
   "id": "46eac041",
   "metadata": {},
   "source": [
    "## 3) Lista los nombres de los usuarios a los que @rosalia está siguiendo."
   ]
  },
  {
   "cell_type": "markdown",
   "id": "03bd9df0",
   "metadata": {},
   "source": [
    "Primero me fijo la cantidad de usuarios a los que @rosalia sigue."
   ]
  },
  {
   "cell_type": "code",
   "execution_count": 6,
   "id": "081c98db",
   "metadata": {},
   "outputs": [
    {
     "data": {
      "text/plain": [
       "54"
      ]
     },
     "execution_count": 6,
     "metadata": {},
     "output_type": "execute_result"
    }
   ],
   "source": [
    "user.data.public_metrics[\"following_count\"]"
   ]
  },
  {
   "cell_type": "markdown",
   "id": "456e5a49",
   "metadata": {},
   "source": [
    "Son 54, por lo tanto se pueden listarlos fácilmente por pantalla.\n",
    "\n",
    "Para verlos uso el comando `get_users_following`, ya que el mismo muestra las personas a las que sigue @rosalia. Para listarlos a todos  se puede utilizar un objeto `Paginator`, y dentro de cada página me quedo con el atributo `user_name` que es el nombre del usuario Rosalia sigue. Cada nombre de usuario lo voy asignando a una lista creada previamente, llamada following.\n",
    "\n",
    "Posteriormente controlaré que la cantidad de elementos de esta lista coincida con el conteo realizado anteriormente."
   ]
  },
  {
   "cell_type": "code",
   "execution_count": 7,
   "id": "af4f8de2",
   "metadata": {},
   "outputs": [],
   "source": [
    "#Creo la lista en la que luego almacenaré los nombres de usuarios\n",
    "following = []\n",
    "\n",
    "#Realizo el loop con el que se llenará la lista anterior\n",
    "for page in tweepy.Paginator(client.get_users_following, user.data.id, max_results=100, limit = 14):\n",
    "  for response in page.data:\n",
    "    following.append(response.data[\"username\"])"
   ]
  },
  {
   "cell_type": "markdown",
   "id": "3a53f90b",
   "metadata": {},
   "source": [
    "El loop anterior creó la lista following, donde se guardó el nombre de los usuarios a los que sige @rosalia. Me fijo el número de elementos de dicha lista para cerciorarme que da igual que el `user.data.public_metrics[\"following_count\"]`."
   ]
  },
  {
   "cell_type": "code",
   "execution_count": 23,
   "id": "e09e280e",
   "metadata": {},
   "outputs": [
    {
     "data": {
      "text/plain": [
       "54"
      ]
     },
     "execution_count": 23,
     "metadata": {},
     "output_type": "execute_result"
    }
   ],
   "source": [
    "len(following)"
   ]
  },
  {
   "cell_type": "markdown",
   "id": "a2071ec9",
   "metadata": {},
   "source": [
    "El número de elementos es igual que el conteo que se hizo. Resta listar los nombres de los 54 usuarios a los que Rosalia sigue:"
   ]
  },
  {
   "cell_type": "code",
   "execution_count": 9,
   "id": "fbc57535",
   "metadata": {},
   "outputs": [
    {
     "name": "stdout",
     "output_type": "stream",
     "text": [
      "NoeliaRMontes\n",
      "jose272011\n",
      "neggata\n",
      "jooleesah\n",
      "rociorotten\n",
      "caesarenas\n",
      "katbeee\n",
      "motovenus\n",
      "zanelowe\n",
      "dantijerina\n",
      "RollingStoneUK\n",
      "carolineplz\n",
      "ivangb00\n",
      "iamcardib\n",
      "Tainy\n",
      "rossydpalma\n",
      "officialDannyT\n",
      "DONOMAR\n",
      "OTHERtone\n",
      "brokemogul\n",
      "ChadHugo\n",
      "Pharrell\n",
      "TheNeptunes\n",
      "babykeem\n",
      "Harry_Styles\n",
      "tokischa_\n",
      "secoweedcodein\n",
      "kaydyCain\n",
      "dragon___loco\n",
      "caetanoveloso\n",
      "0PN\n",
      "jimmyfallon\n",
      "MuraiHiro\n",
      "MayaCPopa\n",
      "historiayarte_\n",
      "yokoono\n",
      "elonmusk\n",
      "rauwalejandro\n",
      "MissyElliott\n",
      "YouTubeJapan\n",
      "jamesblake\n",
      "CharmLadonna\n",
      "arca1000000\n",
      "Camaron_Fans\n",
      "ptobella\n",
      "playboicarti\n",
      "caroshawmusic\n",
      "KylieJenner\n",
      "ChloeBailey\n",
      "rojuuaka\n",
      "RodoredaMerce\n",
      "leticia__sala\n",
      "michaeluzowuru\n",
      "daikyri_\n"
     ]
    }
   ],
   "source": [
    "for i in following:\n",
    "    print(i)"
   ]
  },
  {
   "cell_type": "markdown",
   "id": "aa5e9c6c",
   "metadata": {},
   "source": [
    "## 4) ¿Cuál de ellos tiene más seguidores?"
   ]
  },
  {
   "cell_type": "markdown",
   "id": "ddd9da13",
   "metadata": {},
   "source": [
    "Para contestar a esta pregunta, lo primero que hago es un loop para crear una lista con los followers de cada uno de los 54 usuarios a los que sigue Rosalia. "
   ]
  },
  {
   "cell_type": "code",
   "execution_count": 10,
   "id": "a48e6479",
   "metadata": {},
   "outputs": [],
   "source": [
    "#Creo la lista en la que luego almacenaré el conteo de los followers de los usuarios a los que sigue rosalia\n",
    "f_counts = []\n",
    "\n",
    "#Realizo el loop que llena la lista anterior\n",
    "for i in following:\n",
    "    f_counts.append(\n",
    "        client.get_user(username=i, \n",
    "                        user_fields=[\"public_metrics\"])\n",
    "            .data.public_metrics[\"followers_count\"]\n",
    "        \n",
    "    )\n",
    "    "
   ]
  },
  {
   "cell_type": "markdown",
   "id": "47189c0e",
   "metadata": {},
   "source": [
    "Luego paso las dos listas creadas (la de usuarios y la del conteo de sus followeres) a un dataframe."
   ]
  },
  {
   "cell_type": "code",
   "execution_count": 11,
   "id": "83153ea9",
   "metadata": {},
   "outputs": [
    {
     "data": {
      "text/html": [
       "<div>\n",
       "<style scoped>\n",
       "    .dataframe tbody tr th:only-of-type {\n",
       "        vertical-align: middle;\n",
       "    }\n",
       "\n",
       "    .dataframe tbody tr th {\n",
       "        vertical-align: top;\n",
       "    }\n",
       "\n",
       "    .dataframe thead th {\n",
       "        text-align: right;\n",
       "    }\n",
       "</style>\n",
       "<table border=\"1\" class=\"dataframe\">\n",
       "  <thead>\n",
       "    <tr style=\"text-align: right;\">\n",
       "      <th></th>\n",
       "      <th>user</th>\n",
       "      <th>followers_counts</th>\n",
       "    </tr>\n",
       "  </thead>\n",
       "  <tbody>\n",
       "    <tr>\n",
       "      <th>0</th>\n",
       "      <td>NoeliaRMontes</td>\n",
       "      <td>3553</td>\n",
       "    </tr>\n",
       "    <tr>\n",
       "      <th>1</th>\n",
       "      <td>jose272011</td>\n",
       "      <td>39010</td>\n",
       "    </tr>\n",
       "    <tr>\n",
       "      <th>2</th>\n",
       "      <td>neggata</td>\n",
       "      <td>20800</td>\n",
       "    </tr>\n",
       "    <tr>\n",
       "      <th>3</th>\n",
       "      <td>jooleesah</td>\n",
       "      <td>3440</td>\n",
       "    </tr>\n",
       "    <tr>\n",
       "      <th>4</th>\n",
       "      <td>rociorotten</td>\n",
       "      <td>1473</td>\n",
       "    </tr>\n",
       "    <tr>\n",
       "      <th>5</th>\n",
       "      <td>caesarenas</td>\n",
       "      <td>1584</td>\n",
       "    </tr>\n",
       "    <tr>\n",
       "      <th>6</th>\n",
       "      <td>katbeee</td>\n",
       "      <td>4181</td>\n",
       "    </tr>\n",
       "    <tr>\n",
       "      <th>7</th>\n",
       "      <td>motovenus</td>\n",
       "      <td>45</td>\n",
       "    </tr>\n",
       "    <tr>\n",
       "      <th>8</th>\n",
       "      <td>zanelowe</td>\n",
       "      <td>676661</td>\n",
       "    </tr>\n",
       "    <tr>\n",
       "      <th>9</th>\n",
       "      <td>dantijerina</td>\n",
       "      <td>344</td>\n",
       "    </tr>\n",
       "    <tr>\n",
       "      <th>10</th>\n",
       "      <td>RollingStoneUK</td>\n",
       "      <td>3470</td>\n",
       "    </tr>\n",
       "    <tr>\n",
       "      <th>11</th>\n",
       "      <td>carolineplz</td>\n",
       "      <td>81761</td>\n",
       "    </tr>\n",
       "    <tr>\n",
       "      <th>12</th>\n",
       "      <td>ivangb00</td>\n",
       "      <td>555</td>\n",
       "    </tr>\n",
       "    <tr>\n",
       "      <th>13</th>\n",
       "      <td>iamcardib</td>\n",
       "      <td>22109327</td>\n",
       "    </tr>\n",
       "    <tr>\n",
       "      <th>14</th>\n",
       "      <td>Tainy</td>\n",
       "      <td>105196</td>\n",
       "    </tr>\n",
       "    <tr>\n",
       "      <th>15</th>\n",
       "      <td>rossydpalma</td>\n",
       "      <td>67913</td>\n",
       "    </tr>\n",
       "    <tr>\n",
       "      <th>16</th>\n",
       "      <td>officialDannyT</td>\n",
       "      <td>469415</td>\n",
       "    </tr>\n",
       "    <tr>\n",
       "      <th>17</th>\n",
       "      <td>DONOMAR</td>\n",
       "      <td>5279608</td>\n",
       "    </tr>\n",
       "    <tr>\n",
       "      <th>18</th>\n",
       "      <td>OTHERtone</td>\n",
       "      <td>1853</td>\n",
       "    </tr>\n",
       "    <tr>\n",
       "      <th>19</th>\n",
       "      <td>brokemogul</td>\n",
       "      <td>60679</td>\n",
       "    </tr>\n",
       "    <tr>\n",
       "      <th>20</th>\n",
       "      <td>ChadHugo</td>\n",
       "      <td>35112</td>\n",
       "    </tr>\n",
       "    <tr>\n",
       "      <th>21</th>\n",
       "      <td>Pharrell</td>\n",
       "      <td>10659820</td>\n",
       "    </tr>\n",
       "    <tr>\n",
       "      <th>22</th>\n",
       "      <td>TheNeptunes</td>\n",
       "      <td>19224</td>\n",
       "    </tr>\n",
       "    <tr>\n",
       "      <th>23</th>\n",
       "      <td>babykeem</td>\n",
       "      <td>206254</td>\n",
       "    </tr>\n",
       "    <tr>\n",
       "      <th>24</th>\n",
       "      <td>Harry_Styles</td>\n",
       "      <td>37433179</td>\n",
       "    </tr>\n",
       "    <tr>\n",
       "      <th>25</th>\n",
       "      <td>tokischa_</td>\n",
       "      <td>121669</td>\n",
       "    </tr>\n",
       "    <tr>\n",
       "      <th>26</th>\n",
       "      <td>secoweedcodein</td>\n",
       "      <td>160590</td>\n",
       "    </tr>\n",
       "    <tr>\n",
       "      <th>27</th>\n",
       "      <td>kaydyCain</td>\n",
       "      <td>135276</td>\n",
       "    </tr>\n",
       "    <tr>\n",
       "      <th>28</th>\n",
       "      <td>dragon___loco</td>\n",
       "      <td>280</td>\n",
       "    </tr>\n",
       "    <tr>\n",
       "      <th>29</th>\n",
       "      <td>caetanoveloso</td>\n",
       "      <td>1026985</td>\n",
       "    </tr>\n",
       "    <tr>\n",
       "      <th>30</th>\n",
       "      <td>0PN</td>\n",
       "      <td>67634</td>\n",
       "    </tr>\n",
       "    <tr>\n",
       "      <th>31</th>\n",
       "      <td>jimmyfallon</td>\n",
       "      <td>51455301</td>\n",
       "    </tr>\n",
       "    <tr>\n",
       "      <th>32</th>\n",
       "      <td>MuraiHiro</td>\n",
       "      <td>31186</td>\n",
       "    </tr>\n",
       "    <tr>\n",
       "      <th>33</th>\n",
       "      <td>MayaCPopa</td>\n",
       "      <td>21132</td>\n",
       "    </tr>\n",
       "    <tr>\n",
       "      <th>34</th>\n",
       "      <td>historiayarte_</td>\n",
       "      <td>96594</td>\n",
       "    </tr>\n",
       "    <tr>\n",
       "      <th>35</th>\n",
       "      <td>yokoono</td>\n",
       "      <td>4609290</td>\n",
       "    </tr>\n",
       "    <tr>\n",
       "      <th>36</th>\n",
       "      <td>elonmusk</td>\n",
       "      <td>77511081</td>\n",
       "    </tr>\n",
       "    <tr>\n",
       "      <th>37</th>\n",
       "      <td>rauwalejandro</td>\n",
       "      <td>1842271</td>\n",
       "    </tr>\n",
       "    <tr>\n",
       "      <th>38</th>\n",
       "      <td>MissyElliott</td>\n",
       "      <td>6966922</td>\n",
       "    </tr>\n",
       "    <tr>\n",
       "      <th>39</th>\n",
       "      <td>YouTubeJapan</td>\n",
       "      <td>414164</td>\n",
       "    </tr>\n",
       "    <tr>\n",
       "      <th>40</th>\n",
       "      <td>jamesblake</td>\n",
       "      <td>339648</td>\n",
       "    </tr>\n",
       "    <tr>\n",
       "      <th>41</th>\n",
       "      <td>CharmLadonna</td>\n",
       "      <td>7454</td>\n",
       "    </tr>\n",
       "    <tr>\n",
       "      <th>42</th>\n",
       "      <td>arca1000000</td>\n",
       "      <td>118724</td>\n",
       "    </tr>\n",
       "    <tr>\n",
       "      <th>43</th>\n",
       "      <td>Camaron_Fans</td>\n",
       "      <td>24275</td>\n",
       "    </tr>\n",
       "    <tr>\n",
       "      <th>44</th>\n",
       "      <td>ptobella</td>\n",
       "      <td>1177</td>\n",
       "    </tr>\n",
       "    <tr>\n",
       "      <th>45</th>\n",
       "      <td>playboicarti</td>\n",
       "      <td>2230208</td>\n",
       "    </tr>\n",
       "    <tr>\n",
       "      <th>46</th>\n",
       "      <td>caroshawmusic</td>\n",
       "      <td>8072</td>\n",
       "    </tr>\n",
       "    <tr>\n",
       "      <th>47</th>\n",
       "      <td>KylieJenner</td>\n",
       "      <td>39696114</td>\n",
       "    </tr>\n",
       "    <tr>\n",
       "      <th>48</th>\n",
       "      <td>ChloeBailey</td>\n",
       "      <td>1147835</td>\n",
       "    </tr>\n",
       "    <tr>\n",
       "      <th>49</th>\n",
       "      <td>rojuuaka</td>\n",
       "      <td>76436</td>\n",
       "    </tr>\n",
       "    <tr>\n",
       "      <th>50</th>\n",
       "      <td>RodoredaMerce</td>\n",
       "      <td>31285</td>\n",
       "    </tr>\n",
       "    <tr>\n",
       "      <th>51</th>\n",
       "      <td>leticia__sala</td>\n",
       "      <td>6372</td>\n",
       "    </tr>\n",
       "    <tr>\n",
       "      <th>52</th>\n",
       "      <td>michaeluzowuru</td>\n",
       "      <td>10018</td>\n",
       "    </tr>\n",
       "    <tr>\n",
       "      <th>53</th>\n",
       "      <td>daikyri_</td>\n",
       "      <td>34778</td>\n",
       "    </tr>\n",
       "  </tbody>\n",
       "</table>\n",
       "</div>"
      ],
      "text/plain": [
       "              user  followers_counts\n",
       "0    NoeliaRMontes              3553\n",
       "1       jose272011             39010\n",
       "2          neggata             20800\n",
       "3        jooleesah              3440\n",
       "4      rociorotten              1473\n",
       "5       caesarenas              1584\n",
       "6          katbeee              4181\n",
       "7        motovenus                45\n",
       "8         zanelowe            676661\n",
       "9      dantijerina               344\n",
       "10  RollingStoneUK              3470\n",
       "11     carolineplz             81761\n",
       "12        ivangb00               555\n",
       "13       iamcardib          22109327\n",
       "14           Tainy            105196\n",
       "15     rossydpalma             67913\n",
       "16  officialDannyT            469415\n",
       "17         DONOMAR           5279608\n",
       "18       OTHERtone              1853\n",
       "19      brokemogul             60679\n",
       "20        ChadHugo             35112\n",
       "21        Pharrell          10659820\n",
       "22     TheNeptunes             19224\n",
       "23        babykeem            206254\n",
       "24    Harry_Styles          37433179\n",
       "25       tokischa_            121669\n",
       "26  secoweedcodein            160590\n",
       "27       kaydyCain            135276\n",
       "28   dragon___loco               280\n",
       "29   caetanoveloso           1026985\n",
       "30             0PN             67634\n",
       "31     jimmyfallon          51455301\n",
       "32       MuraiHiro             31186\n",
       "33       MayaCPopa             21132\n",
       "34  historiayarte_             96594\n",
       "35         yokoono           4609290\n",
       "36        elonmusk          77511081\n",
       "37   rauwalejandro           1842271\n",
       "38    MissyElliott           6966922\n",
       "39    YouTubeJapan            414164\n",
       "40      jamesblake            339648\n",
       "41    CharmLadonna              7454\n",
       "42     arca1000000            118724\n",
       "43    Camaron_Fans             24275\n",
       "44        ptobella              1177\n",
       "45    playboicarti           2230208\n",
       "46   caroshawmusic              8072\n",
       "47     KylieJenner          39696114\n",
       "48     ChloeBailey           1147835\n",
       "49        rojuuaka             76436\n",
       "50   RodoredaMerce             31285\n",
       "51   leticia__sala              6372\n",
       "52  michaeluzowuru             10018\n",
       "53        daikyri_             34778"
      ]
     },
     "execution_count": 11,
     "metadata": {},
     "output_type": "execute_result"
    }
   ],
   "source": [
    "#Creo el dataframe\n",
    "following_df = pd.DataFrame({\"user\" : following, \"followers_counts\": f_counts})\n",
    "\n",
    "#Lo observo\n",
    "following_df"
   ]
  },
  {
   "cell_type": "markdown",
   "id": "f71265a1",
   "metadata": {},
   "source": [
    "Me fijo ahora cuál usuario de los que Rosalia sigue tiene más seguidores."
   ]
  },
  {
   "cell_type": "code",
   "execution_count": 12,
   "id": "d432a023",
   "metadata": {},
   "outputs": [
    {
     "data": {
      "text/html": [
       "<div>\n",
       "<style scoped>\n",
       "    .dataframe tbody tr th:only-of-type {\n",
       "        vertical-align: middle;\n",
       "    }\n",
       "\n",
       "    .dataframe tbody tr th {\n",
       "        vertical-align: top;\n",
       "    }\n",
       "\n",
       "    .dataframe thead th {\n",
       "        text-align: right;\n",
       "    }\n",
       "</style>\n",
       "<table border=\"1\" class=\"dataframe\">\n",
       "  <thead>\n",
       "    <tr style=\"text-align: right;\">\n",
       "      <th></th>\n",
       "      <th>user</th>\n",
       "      <th>followers_counts</th>\n",
       "    </tr>\n",
       "  </thead>\n",
       "  <tbody>\n",
       "    <tr>\n",
       "      <th>36</th>\n",
       "      <td>elonmusk</td>\n",
       "      <td>77511081</td>\n",
       "    </tr>\n",
       "  </tbody>\n",
       "</table>\n",
       "</div>"
      ],
      "text/plain": [
       "        user  followers_counts\n",
       "36  elonmusk          77511081"
      ]
     },
     "execution_count": 12,
     "metadata": {},
     "output_type": "execute_result"
    }
   ],
   "source": [
    "following_df[following_df.followers_counts == following_df.followers_counts.max()]"
   ]
  },
  {
   "cell_type": "markdown",
   "id": "2e2d7f7c",
   "metadata": {},
   "source": [
    "Dentro de los 54 twitteros, Elon Musk es el que tiene más seguidores, con más de 77 millones."
   ]
  },
  {
   "cell_type": "markdown",
   "id": "d12d5987",
   "metadata": {},
   "source": [
    "## 5) Utiliza la get_users_tweets() para obtener el json completo con los cinco últimos tweets de Rosalia. Muestra por pantalla el día, la hora de creación y el texto. ##"
   ]
  },
  {
   "cell_type": "code",
   "execution_count": 15,
   "id": "bdeab878",
   "metadata": {},
   "outputs": [
    {
     "name": "stdout",
     "output_type": "stream",
     "text": [
      "2022-03-12 04:38:14+00:00 RT @johandls360: NO PUEDO ESPERARRRRrrrrrr @rosalia #MOTOMAMI https://t.co/rN1aC2ibc3\n",
      "2022-03-12 00:06:26+00:00 @tokischa_ @jimmyfallon Eso tUUUUU todo el rato toKi💓\n",
      "2022-03-11 21:07:02+00:00 Aunque\n",
      "14/20:\n",
      "\n",
      "El casco es el mejor bolso de unA motomami\n",
      "2022-03-11 21:06:08+00:00 Si el bolso no combina, mejor no lleves bolso https://t.co/TWsWRm6HJ4\n",
      "2022-03-11 20:40:27+00:00 FRONTEA CON MOTO, PROTEGE TU MAMI 13/20\n"
     ]
    }
   ],
   "source": [
    "#Busco los últimos 5 tweets de Rosalia\n",
    "tweets = client.get_users_tweets(id=user.data.id, tweet_fields=[\"created_at\"],max_results =5)\n",
    "\n",
    "#Imprimo los datos solicitados de los tweets\n",
    "for tweet in tweets.data:\n",
    "    print(tweet.created_at, tweet.text)"
   ]
  },
  {
   "cell_type": "markdown",
   "id": "ba0a53de",
   "metadata": {},
   "source": [
    "## 6) Recupera los cinco primeros tweets, a partir de la SteamingClient, desde de la entidad del país/región/ciudad de tu elección y que no sean retweets. Muestra por pantalla el id del usuario que realiza el tweet, la fecha, la hora de creación y el texto."
   ]
  },
  {
   "cell_type": "code",
   "execution_count": 27,
   "id": "7c51cd83",
   "metadata": {},
   "outputs": [
    {
     "name": "stdout",
     "output_type": "stream",
     "text": [
      "0\n",
      "1502745690178523138\n",
      "@GuimonacoOk Se te achicó el mapa, se te cayeron Uruguay, Paraguay, Colombia y Ecuador...\n",
      "2022-03-12 20:37:46+00:00\n",
      "1\n",
      "1502745789235355652\n",
      "it's named after a town in Uruguay where they processed South American meat to make pies. Stop blaming \"the Brits\" for processed food sold in major urban areas by multinational foodstuffs corporations https://t.co/rCf0eyQT27\n",
      "2022-03-12 20:38:10+00:00\n",
      "2\n",
      "1502745914288574465\n",
      "@TzaTza416 Mongolia\n",
      "Italia\n",
      "Guinea \n",
      "Uruguay\n",
      "El Salvador 👊\n",
      "Lituania.\n",
      "2022-03-12 20:38:40+00:00\n",
      "3\n",
      "1502746003174313992\n",
      "Rumanía\n",
      "Uruguay\n",
      "Barcelona\n",
      "ESPAÑA\n",
      "Niger https://t.co/VCt0oq4kFe\n",
      "2022-03-12 20:39:01+00:00\n"
     ]
    },
    {
     "name": "stderr",
     "output_type": "stream",
     "text": [
      "Stream connection closed by Twitter\n"
     ]
    },
    {
     "name": "stdout",
     "output_type": "stream",
     "text": [
      "4\n",
      "1502746019053948928\n",
      "Un escritor entre Uruguay y Grecia -&gt; https://t.co/r27CIHvKE5 #Berisso\n",
      "2022-03-12 20:39:05+00:00\n"
     ]
    }
   ],
   "source": [
    "# Declaro la clase listener que va a instanciar tweepy.StreamingClient \n",
    "class listener(tweepy.StreamingClient):\n",
    "    # Creo un contador de tweets capturados\n",
    "    def on_connect(self):\n",
    "        self.counter = 0\n",
    "        self.limit = 5\n",
    "    # Evento que se ejecuta con cada tweet\n",
    "    def on_tweet(self, tweet):\n",
    "        print(self.counter)\n",
    "        print(tweet.id)\n",
    "        print(tweet.text)\n",
    "        print(tweet.created_at)\n",
    "        self.counter += 1\n",
    "        if self.counter < self.limit:\n",
    "            return True\n",
    "        else:\n",
    "            self.disconnect()\n",
    "    def on_error(self, tweet):\n",
    "        print(tweet)\n",
    "\n",
    "# Declaro la instancia de tweepy.StreamingClient\n",
    "listen = listener(bearer_token,wait_on_rate_limit=True)\n",
    "\n",
    "# Elimino las reglas previas\n",
    "printer_rules = listen.get_rules()\n",
    "if printer_rules.data is not None:\n",
    "  listen.delete_rules([str(i.id) for i in listen.get_rules().data])\n",
    "\n",
    "#Declaro las nuevas reglas, donde mostraré tweets de Uruguay que no sean retweets\n",
    "listen.add_rules(tweepy.StreamRule('entity:\"Uruguay\" -is:retweet'))\n",
    "# Filtro e indico los campos a recuperar. No menciono explicitamente el id ni el texto porque lo muestra por default.\n",
    "listen.filter(tweet_fields=[\"created_at\"])"
   ]
  },
  {
   "cell_type": "code",
   "execution_count": null,
   "id": "e12abe49",
   "metadata": {},
   "outputs": [],
   "source": []
  }
 ],
 "metadata": {
  "kernelspec": {
   "display_name": "mbdds_rpy20",
   "language": "python",
   "name": "mbdds_rpy20"
  },
  "language_info": {
   "codemirror_mode": {
    "name": "ipython",
    "version": 3
   },
   "file_extension": ".py",
   "mimetype": "text/x-python",
   "name": "python",
   "nbconvert_exporter": "python",
   "pygments_lexer": "ipython3",
   "version": "3.6.9"
  },
  "varInspector": {
   "cols": {
    "lenName": 16,
    "lenType": 16,
    "lenVar": 40
   },
   "kernels_config": {
    "python": {
     "delete_cmd_postfix": "",
     "delete_cmd_prefix": "del ",
     "library": "var_list.py",
     "varRefreshCmd": "print(var_dic_list())"
    },
    "r": {
     "delete_cmd_postfix": ") ",
     "delete_cmd_prefix": "rm(",
     "library": "var_list.r",
     "varRefreshCmd": "cat(var_dic_list()) "
    }
   },
   "types_to_exclude": [
    "module",
    "function",
    "builtin_function_or_method",
    "instance",
    "_Feature"
   ],
   "window_display": false
  }
 },
 "nbformat": 4,
 "nbformat_minor": 5
}
