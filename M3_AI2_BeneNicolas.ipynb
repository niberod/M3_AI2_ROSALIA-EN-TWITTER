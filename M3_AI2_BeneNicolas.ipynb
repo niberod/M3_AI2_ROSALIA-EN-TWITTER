{
 "cells": [
  {
   "cell_type": "markdown",
   "id": "dd71f359",
   "metadata": {},
   "source": [
    "# **Tarea 2 Módulo 3**\n",
    "\n",
    "## Alumno: Nicolás Bene\n",
    "\n",
    "---"
   ]
  },
  {
   "cell_type": "markdown",
   "id": "f68889bb",
   "metadata": {},
   "source": [
    "Vamos a analizar el perfil de Rosalía (@rosalia) en Twitter. \n",
    "\n",
    "Las tareas que debes realizar y las preguntas a las que debes dar respuesta en esta actividad son la siguientes:\n",
    "\n",
    "1. Autentícate en twitter. Pon en notebook todo el código necesario y deja con “XXXXXX” las credenciales (bearer_token) para que el profesor se pueda autenticar con sus propias credenciales y ejecutar el resto del notebook. \n",
    "1. ¿Cuál es el id de @rosalia en twitter?\n",
    "1. Lista los nombres de los usuarios a los que @rosalia está siguiendo.\n",
    "1. ¿Cuál de ellos tiene más seguidores?\n",
    "1. Utiliza la get_users_tweets() para obtener el json completo con los cinco últimos tweets de Rosalia. Muestra por pantalla el día, la hora de creación y el texto.\n",
    "1. Recupera los cinco primeros tweets, a partir de la SteamingClient, desde de la entidad del país/región/ciudad de tu elección y que no sean retweets. Muestra por pantalla el id del usuario que realiza el tweet, la fecha, la hora de creación y el texto. \n",
    "\n",
    "<br>\n",
    "\n",
    "Primero importo las librerías"
   ]
  },
  {
   "cell_type": "code",
   "execution_count": 2,
   "id": "ec7f100d",
   "metadata": {},
   "outputs": [],
   "source": [
    "import json\n",
    "import pymongo\n",
    "import tweepy\n",
    "import urllib\n",
    "import time"
   ]
  },
  {
   "cell_type": "markdown",
   "id": "137c8c36",
   "metadata": {},
   "source": [
    "## 1. Autentícate en twitter. Pon en notebook todo el código necesario y deja con “XXXXXX” las credenciales (bearer_token) para que el profesor se pueda autenticar con sus propias credenciales y ejecutar el resto del notebook. "
   ]
  },
  {
   "cell_type": "code",
   "execution_count": null,
   "id": "ebb81771",
   "metadata": {},
   "outputs": [],
   "source": []
  }
 ],
 "metadata": {
  "kernelspec": {
   "display_name": "mbdds_rpy20",
   "language": "python",
   "name": "mbdds_rpy20"
  },
  "language_info": {
   "codemirror_mode": {
    "name": "ipython",
    "version": 3
   },
   "file_extension": ".py",
   "mimetype": "text/x-python",
   "name": "python",
   "nbconvert_exporter": "python",
   "pygments_lexer": "ipython3",
   "version": "3.6.9"
  },
  "varInspector": {
   "cols": {
    "lenName": 16,
    "lenType": 16,
    "lenVar": 40
   },
   "kernels_config": {
    "python": {
     "delete_cmd_postfix": "",
     "delete_cmd_prefix": "del ",
     "library": "var_list.py",
     "varRefreshCmd": "print(var_dic_list())"
    },
    "r": {
     "delete_cmd_postfix": ") ",
     "delete_cmd_prefix": "rm(",
     "library": "var_list.r",
     "varRefreshCmd": "cat(var_dic_list()) "
    }
   },
   "types_to_exclude": [
    "module",
    "function",
    "builtin_function_or_method",
    "instance",
    "_Feature"
   ],
   "window_display": false
  }
 },
 "nbformat": 4,
 "nbformat_minor": 5
}
